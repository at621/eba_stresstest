{
 "cells": [
  {
   "cell_type": "markdown",
   "id": "dfd4776b-94d3-480e-9857-2c969b27ce9e",
   "metadata": {},
   "source": [
    "# IRB credit risk insights from the EBA's 2021 EU-wide stress test\n",
    "\n",
    "The aim of this notebook is to create heuristics for assessing the loss multiplier under stress conditions for different regulatory exposure classes. The underlying assumption is that the expected loss under normal conditions is not so difficult to forecast. If we could establish how the losses typically behave during stress scenario in comparison to average economic conditions, we will have an additional tool to validate our credit risk models.\n",
    "\n",
    "This notebook provides a starting point and is not a final solution. There are many ways to enhance these calculations:\n",
    "- introduce bins based on initial riskiness of the portfolio as in terms of a loss multiplier is higher for better credit risk bands\n",
    "- introducing geographical dimension \n",
    "- removing some obvious (and not so obvious) outliers\n",
    "- excluding banks that are different from yours\n",
    "- extended this analysis to multiple periods"
   ]
  },
  {
   "cell_type": "code",
   "execution_count": 1,
   "id": "8da45b8d-1eae-4cbd-ae42-a7b7a7074b5d",
   "metadata": {},
   "outputs": [],
   "source": [
    "import pandas as pd\n",
    "import numpy as np\n",
    "import matplotlib.ticker as mtick\n",
    "import matplotlib.pyplot as plt\n",
    "from datetime import datetime\n",
    "\n",
    "pd.set_option('display.max_rows', None)\n",
    "pd.set_option('display.max_columns', None)\n",
    "\n",
    "pd.options.display.float_format = '{:,.1%}'.format"
   ]
  },
  {
   "cell_type": "markdown",
   "id": "6bc26c95-45f2-44f0-bca1-be86ed6d6138",
   "metadata": {},
   "source": [
    "### A. Import the dataset\n",
    "Import previously prepared data (see notebook 'data preparation.ipynb'). Original data dictionary and metadata can be obtained from https://www.eba.europa.eu/risk-analysis-and-data/eu-wide-stress-testing/2021."
   ]
  },
  {
   "cell_type": "code",
   "execution_count": 2,
   "id": "dfec1ad2-2f56-4f29-8762-4fdd0b59a8a4",
   "metadata": {},
   "outputs": [],
   "source": [
    "# Import data\n",
    "credit_risk = pd.read_excel('output_data/2021_stress_test_irb.xlsx')"
   ]
  },
  {
   "cell_type": "markdown",
   "id": "abffbb5c-e3a1-4cc9-86e5-c85e7417f5ba",
   "metadata": {},
   "source": [
    "### B. Overview of the dataset\n",
    "\n",
    "This dataset includes five items:\n",
    "- IRB - Exposures  by IFRS9 Stages\n",
    "- IRB - Stock of Provisions  by IFRS9 Stages\n",
    "- IRB - Coverage ratios\n",
    "- IRB - Exposure values - by status (Defaulted and Non defaulted) and by Portfolio (AIRB and FIRB)\n",
    "- IRB - Risk Exposures amounts - by status (Defaulted and Non defaulted) and by Portfolio (AIRB and FIRB)\n",
    "\n",
    "Although on the first glance the number of items may seem small, one can benchmark RWA cyclicality and estimated losses for different scenarios for CRR Exposure Classes and different countries.\n",
    "\n",
    "Regulatory Exposure Classes covered in this dataset (for several classes, unfortunately the number of banks is limited).\n",
    "- Central banks\n",
    "- Central governments\n",
    "- Retail - Other - Non SME\n",
    "- Retail - Other - SME\n",
    "- Retail - Other\n",
    "- Retail  - Qualifying Revolving\n",
    "- Retail - Secured by real estate property - Non SME\n",
    "- Retail - Secured by real estate property - SME\n",
    "- Retail - Secured by real estate property\n",
    "- Retail\n",
    "- Corporates - SME\n",
    "- Corporates - Specialised Lending\n",
    "- Corporates (Credit Risk) / Non Financial corporations (NPE- Forbearance)\n",
    "- Institutions\n",
    "- Equity\n",
    "- Other non-credit obligation assets"
   ]
  },
  {
   "cell_type": "code",
   "execution_count": 3,
   "id": "6abd19d8-6fbe-437b-ae3b-a89e6a1c1528",
   "metadata": {},
   "outputs": [],
   "source": [
    "# Cleansing\n",
    "col = 'Corporates (Credit Risk) / Non Financial corporations (NPE- Forbearance)'\n",
    "credit_risk = credit_risk.replace({'exposure_description': \n",
    "                                       {col: 'Corporates', \n",
    "                                       'TOTAL': 'All exposure classes'}})"
   ]
  },
  {
   "cell_type": "markdown",
   "id": "1fb8217c-109a-4641-8578-158807526c15",
   "metadata": {},
   "source": [
    "### C. Analyse losses "
   ]
  },
  {
   "cell_type": "code",
   "execution_count": 4,
   "id": "623db912-6048-4049-8124-0b14972c5954",
   "metadata": {},
   "outputs": [],
   "source": [
    "# Drop country-specific information and non-loss related fields\n",
    "idx1 = credit_risk['item_label'].isin(['IRB - Stock of Provisions by IFRS9 Stages', \n",
    "                                       'IRB - Exposures by IFRS9 Stages'])\n",
    "idx2 = credit_risk['country_name'].isin(['Total / No breakdown'])\n",
    "losses = credit_risk[idx1 & idx2]"
   ]
  },
  {
   "cell_type": "code",
   "execution_count": 5,
   "id": "e5d361da-d8f8-44ca-aeed-4197cebde1ab",
   "metadata": {},
   "outputs": [],
   "source": [
    "# Add starting data to 'Adverse scenario' and 'Baseline scenario'\n",
    "starting_point = losses[losses['scenario_description'].isin(['Actual figures'])]\n",
    "\n",
    "sp1 = starting_point.copy()\n",
    "sp1['scenario_description'] = 'Adverse scenario'\n",
    "sp2 = starting_point.copy()\n",
    "sp2['scenario_description'] = 'Baseline scenario'\n",
    "\n",
    "# Concatenate all dataframes\n",
    "losses = pd.concat([losses, sp1, sp2], ignore_index=True)\n",
    "\n",
    "# Create more informative label for periods\n",
    "losses['period']=pd.to_datetime(losses['period'])\n",
    "losses['period_label'] = losses['period'].dt.strftime('year_%y')"
   ]
  },
  {
   "cell_type": "code",
   "execution_count": 6,
   "id": "58caf4e8-26ea-4a7b-b551-1a1a8870946a",
   "metadata": {},
   "outputs": [],
   "source": [
    "# Pivot for stress test scenario and regulatory exposure class\n",
    "df1 = losses.pivot_table(\n",
    "                index=['bank_name', \n",
    "                       'scenario_description', \n",
    "                       'exposure_description'], \n",
    "                columns=['period_label', \n",
    "                         'item_label'], \n",
    "                values='amount'\n",
    "                        ).reset_index()\n",
    "\n",
    "df1 = df1[df1['scenario_description']!='Actual figures']\n",
    "df1.columns = [ \n",
    "               'bank_name', \n",
    "               'scenario_description', \n",
    "               'exposure_description',\n",
    "               'exposure_20',\n",
    "               'provisions_20', \n",
    "               'exposure_21',  \n",
    "               'provisions_21', \n",
    "               'exposure_22', \n",
    "               'provisions_22', \n",
    "               'exposure_23',\n",
    "               'provisions_23' \n",
    "               ]\n",
    "\n",
    "# Create variables for loss calculation\n",
    "df1['1_year_change'] = df1['provisions_21'] - df1['provisions_20']\n",
    "df1['2_year_change'] = df1['provisions_22'] - df1['provisions_20']\n",
    "df1['3_year_change'] = df1['provisions_23'] - df1['provisions_20']\n",
    "\n",
    "df1['1_year_cum_change'] = df1['provisions_21'] - df1['provisions_20']\n",
    "df1['2_year_cum_change'] = df1['provisions_22'] - df1['provisions_21']\n",
    "df1['3_year_cum_change'] = df1['provisions_23'] - df1['provisions_22']\n",
    "\n",
    "df1['1_year_cum_perc_change'] = df1['1_year_cum_change'] / df1['exposure_20']\n",
    "df1['2_year_cum_perc_change'] = df1['2_year_cum_change'] / df1['exposure_20']\n",
    "df1['3_year_cum_perc_change'] = df1['3_year_cum_change'] / df1['exposure_20']"
   ]
  },
  {
   "cell_type": "code",
   "execution_count": 7,
   "id": "3602f743-1201-41df-a47c-c56c8e174fe4",
   "metadata": {},
   "outputs": [
    {
     "name": "stdout",
     "output_type": "stream",
     "text": [
      "14.57% of records have inconsistencies and were removed\n"
     ]
    }
   ],
   "source": [
    "# Remove cases where there was no loss (not always a data quality problem)\n",
    "idx = df1['1_year_change']>0.001\n",
    "print(f'{sum(-idx) / len(df1):,.2%} of records have inconsistencies and were removed')\n",
    "\n",
    "df1 = df1[idx]"
   ]
  },
  {
   "cell_type": "code",
   "execution_count": 8,
   "id": "6d8f4b59-3b5e-4ae2-82e3-a2c4b333cc32",
   "metadata": {},
   "outputs": [],
   "source": [
    "# Per bank 1-year loss baseline vs adverse scenario\n",
    "df2 = df1.pivot_table(\n",
    "                    index=['bank_name', 'exposure_description'], \n",
    "                    columns=['scenario_description'], \n",
    "                    values='1_year_cum_perc_change'\n",
    "                            ).reset_index()\n",
    "\n",
    "\n",
    "df2['adverse_vs_baseline'] = df2['Adverse scenario'] / df2['Baseline scenario']\n",
    "df2 = df2.sort_values(by=['exposure_description', 'adverse_vs_baseline'], ascending=False)"
   ]
  },
  {
   "cell_type": "markdown",
   "id": "223ad1b1-dc9b-478e-8b27-0a76db2634ae",
   "metadata": {},
   "source": [
    "### D. Create heuristics"
   ]
  },
  {
   "cell_type": "code",
   "execution_count": 9,
   "id": "38746876-a6bc-4f5f-aa10-cce4ba3840ee",
   "metadata": {},
   "outputs": [],
   "source": [
    "# Create quantiles of the loss ratio\n",
    "df3 = df2.groupby('exposure_description').agg({'adverse_vs_baseline': [\n",
    "               lambda x: x.quantile(0.25), \n",
    "               lambda x: x.quantile(0.5),\n",
    "               lambda x: x.quantile(0.75)]}).reset_index()\n",
    "\n",
    "df3.columns = ['Exposure Class', '25th perc', '50th perc', '75th perc']"
   ]
  },
  {
   "cell_type": "code",
   "execution_count": 10,
   "id": "31f86e50-e4ac-44f8-8087-5086e61f95e0",
   "metadata": {},
   "outputs": [
    {
     "data": {
      "text/html": [
       "<div>\n",
       "<style scoped>\n",
       "    .dataframe tbody tr th:only-of-type {\n",
       "        vertical-align: middle;\n",
       "    }\n",
       "\n",
       "    .dataframe tbody tr th {\n",
       "        vertical-align: top;\n",
       "    }\n",
       "\n",
       "    .dataframe thead th {\n",
       "        text-align: right;\n",
       "    }\n",
       "</style>\n",
       "<table border=\"1\" class=\"dataframe\">\n",
       "  <thead>\n",
       "    <tr style=\"text-align: right;\">\n",
       "      <th></th>\n",
       "      <th>Exposure Class</th>\n",
       "      <th>25th perc</th>\n",
       "      <th>50th perc</th>\n",
       "      <th>75th perc</th>\n",
       "    </tr>\n",
       "  </thead>\n",
       "  <tbody>\n",
       "    <tr>\n",
       "      <th>0</th>\n",
       "      <td>All exposure classes</td>\n",
       "      <td>289.9%</td>\n",
       "      <td>372.0%</td>\n",
       "      <td>562.2%</td>\n",
       "    </tr>\n",
       "    <tr>\n",
       "      <th>1</th>\n",
       "      <td>Central banks</td>\n",
       "      <td>106.2%</td>\n",
       "      <td>144.7%</td>\n",
       "      <td>176.5%</td>\n",
       "    </tr>\n",
       "    <tr>\n",
       "      <th>2</th>\n",
       "      <td>Central governments</td>\n",
       "      <td>105.7%</td>\n",
       "      <td>166.3%</td>\n",
       "      <td>221.6%</td>\n",
       "    </tr>\n",
       "    <tr>\n",
       "      <th>3</th>\n",
       "      <td>Corporates</td>\n",
       "      <td>307.8%</td>\n",
       "      <td>406.7%</td>\n",
       "      <td>680.1%</td>\n",
       "    </tr>\n",
       "    <tr>\n",
       "      <th>4</th>\n",
       "      <td>Corporates - SME</td>\n",
       "      <td>254.8%</td>\n",
       "      <td>355.8%</td>\n",
       "      <td>582.2%</td>\n",
       "    </tr>\n",
       "    <tr>\n",
       "      <th>5</th>\n",
       "      <td>Corporates - Specialised Lending</td>\n",
       "      <td>172.6%</td>\n",
       "      <td>338.8%</td>\n",
       "      <td>500.1%</td>\n",
       "    </tr>\n",
       "    <tr>\n",
       "      <th>6</th>\n",
       "      <td>Equity</td>\n",
       "      <td>277.6%</td>\n",
       "      <td>408.0%</td>\n",
       "      <td>498.1%</td>\n",
       "    </tr>\n",
       "    <tr>\n",
       "      <th>7</th>\n",
       "      <td>Institutions</td>\n",
       "      <td>211.1%</td>\n",
       "      <td>310.0%</td>\n",
       "      <td>604.5%</td>\n",
       "    </tr>\n",
       "    <tr>\n",
       "      <th>8</th>\n",
       "      <td>Other non-credit obligation assets</td>\n",
       "      <td>151.5%</td>\n",
       "      <td>240.4%</td>\n",
       "      <td>434.9%</td>\n",
       "    </tr>\n",
       "    <tr>\n",
       "      <th>9</th>\n",
       "      <td>Retail</td>\n",
       "      <td>220.5%</td>\n",
       "      <td>356.8%</td>\n",
       "      <td>486.7%</td>\n",
       "    </tr>\n",
       "    <tr>\n",
       "      <th>10</th>\n",
       "      <td>Retail - Other</td>\n",
       "      <td>169.0%</td>\n",
       "      <td>251.8%</td>\n",
       "      <td>335.6%</td>\n",
       "    </tr>\n",
       "    <tr>\n",
       "      <th>11</th>\n",
       "      <td>Retail - Other - Non SME</td>\n",
       "      <td>165.5%</td>\n",
       "      <td>259.5%</td>\n",
       "      <td>392.6%</td>\n",
       "    </tr>\n",
       "    <tr>\n",
       "      <th>12</th>\n",
       "      <td>Retail - Other - SME</td>\n",
       "      <td>164.8%</td>\n",
       "      <td>226.1%</td>\n",
       "      <td>335.6%</td>\n",
       "    </tr>\n",
       "    <tr>\n",
       "      <th>13</th>\n",
       "      <td>Retail - Qualifying Revolving</td>\n",
       "      <td>145.0%</td>\n",
       "      <td>190.6%</td>\n",
       "      <td>386.9%</td>\n",
       "    </tr>\n",
       "    <tr>\n",
       "      <th>14</th>\n",
       "      <td>Retail - Secured by real estate property</td>\n",
       "      <td>279.3%</td>\n",
       "      <td>527.6%</td>\n",
       "      <td>1,044.1%</td>\n",
       "    </tr>\n",
       "    <tr>\n",
       "      <th>15</th>\n",
       "      <td>Retail - Secured by real estate property - Non...</td>\n",
       "      <td>248.4%</td>\n",
       "      <td>430.9%</td>\n",
       "      <td>1,222.8%</td>\n",
       "    </tr>\n",
       "    <tr>\n",
       "      <th>16</th>\n",
       "      <td>Retail - Secured by real estate property - SME</td>\n",
       "      <td>288.8%</td>\n",
       "      <td>449.0%</td>\n",
       "      <td>988.3%</td>\n",
       "    </tr>\n",
       "  </tbody>\n",
       "</table>\n",
       "</div>"
      ],
      "text/plain": [
       "                                       Exposure Class  25th perc  50th perc  \\\n",
       "0                                All exposure classes     289.9%     372.0%   \n",
       "1                                       Central banks     106.2%     144.7%   \n",
       "2                                 Central governments     105.7%     166.3%   \n",
       "3                                          Corporates     307.8%     406.7%   \n",
       "4                                    Corporates - SME     254.8%     355.8%   \n",
       "5                    Corporates - Specialised Lending     172.6%     338.8%   \n",
       "6                                              Equity     277.6%     408.0%   \n",
       "7                                        Institutions     211.1%     310.0%   \n",
       "8                  Other non-credit obligation assets     151.5%     240.4%   \n",
       "9                                              Retail     220.5%     356.8%   \n",
       "10                                     Retail - Other     169.0%     251.8%   \n",
       "11                           Retail - Other - Non SME     165.5%     259.5%   \n",
       "12                               Retail - Other - SME     164.8%     226.1%   \n",
       "13                      Retail - Qualifying Revolving     145.0%     190.6%   \n",
       "14           Retail - Secured by real estate property     279.3%     527.6%   \n",
       "15  Retail - Secured by real estate property - Non...     248.4%     430.9%   \n",
       "16     Retail - Secured by real estate property - SME     288.8%     449.0%   \n",
       "\n",
       "    75th perc  \n",
       "0      562.2%  \n",
       "1      176.5%  \n",
       "2      221.6%  \n",
       "3      680.1%  \n",
       "4      582.2%  \n",
       "5      500.1%  \n",
       "6      498.1%  \n",
       "7      604.5%  \n",
       "8      434.9%  \n",
       "9      486.7%  \n",
       "10     335.6%  \n",
       "11     392.6%  \n",
       "12     335.6%  \n",
       "13     386.9%  \n",
       "14   1,044.1%  \n",
       "15   1,222.8%  \n",
       "16     988.3%  "
      ]
     },
     "execution_count": 10,
     "metadata": {},
     "output_type": "execute_result"
    }
   ],
   "source": [
    "# Show the result\n",
    "df3"
   ]
  },
  {
   "cell_type": "code",
   "execution_count": 11,
   "id": "6b3536ef-0714-4cc9-a738-527ea5f17313",
   "metadata": {},
   "outputs": [
    {
     "data": {
      "image/png": "[encoded data removed]",
      "text/plain": [
       "<Figure size 648x432 with 1 Axes>"
      ]
     },
     "metadata": {},
     "output_type": "display_data"
    }
   ],
   "source": [
    "# Create graph\n",
    "color = '#e6f2ff'\n",
    "\n",
    "# Create plot\n",
    "df3 = df3.sort_values(by='Exposure Class', ascending=False)\n",
    "fig = plt.figure(figsize=(9, 6), facecolor='darkgrey')\n",
    "ax1 = fig.add_subplot(111)\n",
    "ax1.xaxis.set_major_formatter(mtick.PercentFormatter(1.0))\n",
    "\n",
    "def scatter_fun(df, var, label, color):\n",
    "    return ax1.scatter(df[var], \n",
    "                       df['Exposure Class'], \n",
    "                       linewidths=5, \n",
    "                       alpha=1., \n",
    "                       c=color, \n",
    "                       marker=\"|\", \n",
    "                       label=label)\n",
    "\n",
    "scatter_fun(df3, '25th perc', '25th percentile', 'g')\n",
    "scatter_fun(df3, '50th perc', '50th percentile', 'b')\n",
    "scatter_fun(df3, '75th perc', '75th percentile', 'r')\n",
    "\n",
    "ax1.yaxis.grid(True, color='lightgray', linewidth=5)\n",
    "ax1.xaxis.grid(True, color='gray', linestyle='dashed', linewidth=0.5)\n",
    "ax1.legend(loc=[0.1, -0.12], facecolor=color, edgecolor=color, ncol=3)\n",
    "ax1.set_axisbelow(True)\n",
    "\n",
    "ax1.spines['right'].set_visible(False)\n",
    "ax1.spines['top'].set_visible(False)\n",
    "ax1.spines['bottom'].set_visible(False)\n",
    "ax1.tick_params(axis='both', which='both', length=0)\n",
    "\n",
    "fig.patch.set_facecolor(color)\n",
    "ax1.set_facecolor(color=color)\n",
    "ax1.set_axisbelow(True)\n",
    "\n",
    "plt.title('Loss under Adverse Scenario / Loss under Baseline Scenario', \n",
    "          fontsize=16, \n",
    "          x=0.3, \n",
    "          y=1.1, \n",
    "          fontname='Candara', \n",
    "          fontweight='bold')\n",
    "\n",
    "ax1.text(0.52, 1.05, \n",
    "         'Group of 50 banks, IRB portfolios, Year 1',\n",
    "         verticalalignment='bottom', \n",
    "         horizontalalignment='right',\n",
    "         transform=ax1.transAxes,\n",
    "         color='black', \n",
    "         fontname='Candara', \n",
    "         # style='italic',\n",
    "         fontsize=14)\n",
    "\n",
    "ax1.text(0.63, -0.2, \n",
    "         'Data source: EBA Stresstest 2021, ' \\\n",
    "         'https://www.eba.europa.eu/risk-analysis-and-data/' \\\n",
    "         'eu-wide-stress-testing/2021',\n",
    "         verticalalignment='bottom', \n",
    "         horizontalalignment='right',\n",
    "         transform=ax1.transAxes,\n",
    "         color='black', \n",
    "         style='italic',\n",
    "         fontsize=10)\n",
    "\n",
    "plt.savefig('output_data/loss_per_exp_class.pdf', bbox_inches = 'tight')"
   ]
  },
  {
   "cell_type": "markdown",
   "id": "ff01b77c-fe96-4ed4-9cb0-92cd7d9fc0de",
   "metadata": {},
   "source": [
    "### Appendix. Value counts of dimensions"
   ]
  },
  {
   "cell_type": "code",
   "execution_count": 12,
   "id": "2c53764f-abb5-405e-aa53-297a24b71aa3",
   "metadata": {},
   "outputs": [
    {
     "data": {
      "text/plain": [
       "IRB      458150\n",
       "A-IRB     37400\n",
       "F-IRB     33000\n",
       "Name: portfolio_description, dtype: int64"
      ]
     },
     "execution_count": 12,
     "metadata": {},
     "output_type": "execute_result"
    }
   ],
   "source": [
    "credit_risk['portfolio_description'].value_counts(dropna=False)"
   ]
  },
  {
   "cell_type": "code",
   "execution_count": 13,
   "id": "d2786645-f1b0-436d-8c2a-f5a0ab719b80",
   "metadata": {},
   "outputs": [
    {
     "data": {
      "text/plain": [
       "IRB - Exposures by IFRS9 Stages                                                                            196350\n",
       "IRB - Stock of Provisions by IFRS9 Stages                                                                  196350\n",
       "IRB - Coverage ratios                                                                                       65450\n",
       "IRB - Exposure values - by status (Defaulted and Non defaulted) and by Portfolio (AIRB and FIRB)            35200\n",
       "IRB - Risk Exposures amounts - by status (Defaulted and Non defaulted) and by Portfolio (AIRB and FIRB)     35200\n",
       "Name: item_label, dtype: int64"
      ]
     },
     "execution_count": 13,
     "metadata": {},
     "output_type": "execute_result"
    }
   ],
   "source": [
    "credit_risk['item_label'].value_counts(dropna=False)"
   ]
  },
  {
   "cell_type": "code",
   "execution_count": 14,
   "id": "c93a1781-249e-4f32-a990-8e83bd39b2a4",
   "metadata": {},
   "outputs": [
    {
     "data": {
      "text/plain": [
       "Central banks                                         31350\n",
       "Central governments                                   31350\n",
       "Retail - Other - Non SME                              31350\n",
       "Retail - Other - SME                                  31350\n",
       "Retail - Other                                        31350\n",
       "Retail - Qualifying Revolving                         31350\n",
       "Retail - Secured by real estate property - Non SME    31350\n",
       "Retail - Secured by real estate property - SME        31350\n",
       "Retail - Secured by real estate property              31350\n",
       "Retail                                                31350\n",
       "Corporates - SME                                      31350\n",
       "Corporates - Specialised Lending                      31350\n",
       "Corporates                                            31350\n",
       "Institutions                                          31350\n",
       "All exposure classes                                  31350\n",
       "Equity                                                29150\n",
       "Other non-credit obligation assets                    29150\n",
       "Name: exposure_description, dtype: int64"
      ]
     },
     "execution_count": 14,
     "metadata": {},
     "output_type": "execute_result"
    }
   ],
   "source": [
    "credit_risk['exposure_description'].value_counts(dropna=False)"
   ]
  },
  {
   "cell_type": "code",
   "execution_count": 15,
   "id": "9d174864-887c-4cc8-8689-db0edd444f2d",
   "metadata": {},
   "outputs": [
    {
     "data": {
      "text/plain": [
       "Stage 3                         196350\n",
       "Stage 1                         130900\n",
       "Stage 2                         130900\n",
       "No breakdown by IFRS9_Stages     70400\n",
       "Name: ifrs9_stages_description, dtype: int64"
      ]
     },
     "execution_count": 15,
     "metadata": {},
     "output_type": "execute_result"
    }
   ],
   "source": [
    "credit_risk['ifrs9_stages_description'].value_counts(dropna=False)"
   ]
  },
  {
   "cell_type": "code",
   "execution_count": 16,
   "id": "57b5b8fe-a7bd-4d51-8aeb-ac3a442ebd4c",
   "metadata": {},
   "outputs": [
    {
     "data": {
      "text/plain": [
       "No breakdown by status    458150\n",
       "Non defaulted assets       35200\n",
       "Defaulted assets           35200\n",
       "Name: status_description, dtype: int64"
      ]
     },
     "execution_count": 16,
     "metadata": {},
     "output_type": "execute_result"
    }
   ],
   "source": [
    "credit_risk['status_description'].value_counts(dropna=False)"
   ]
  },
  {
   "cell_type": "code",
   "execution_count": 17,
   "id": "eed45bf4-6e85-403d-a593-e8980e0de252",
   "metadata": {},
   "outputs": [
    {
     "data": {
      "text/plain": [
       "Baseline scenario    196350\n",
       "Adverse scenario     196350\n",
       "Actual figures       135850\n",
       "Name: scenario_description, dtype: int64"
      ]
     },
     "execution_count": 17,
     "metadata": {},
     "output_type": "execute_result"
    }
   ],
   "source": [
    "credit_risk['scenario_description'].value_counts(dropna=False)"
   ]
  }
 ],
 "metadata": {
  "kernelspec": {
   "display_name": "Python 3 (ipykernel)",
   "language": "python",
   "name": "python3"
  },
  "language_info": {
   "codemirror_mode": {
    "name": "ipython",
    "version": 3
   },
   "file_extension": ".py",
   "mimetype": "text/x-python",
   "name": "python",
   "nbconvert_exporter": "python",
   "pygments_lexer": "ipython3",
   "version": "3.9.7"
  }
 },
 "nbformat": 4,
 "nbformat_minor": 5
}
